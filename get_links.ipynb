{
 "cells": [
  {
   "cell_type": "code",
   "execution_count": 1,
   "metadata": {},
   "outputs": [],
   "source": [
    "from bs4 import BeautifulSoup\n",
    "import re\n",
    "from selenium import webdriver\n",
    "from pathlib import Path\n",
    "import requests\n",
    "import os\n",
    "import time"
   ]
  },
  {
   "cell_type": "code",
   "execution_count": 3,
   "metadata": {},
   "outputs": [],
   "source": [
    "target_url = 'https://mp.weixin.qq.com/s/UYTSgfghKDHJE4iBozOBQQ'\n",
    "sub_targets = ['蜡笔小新大电影合集', '蜡笔小新第一季', '蜡笔小新第二季', '蜡笔小新第三季', '蜡笔小新第四季', '蜡笔小新第五季', '蜡笔小新第六季', '蜡笔小新第七季', '蜡笔小新第八季', '蜡笔小新第九季', '蜡笔小新第十季']\n",
    "chrome_options = webdriver.chrome.options.Options()\n",
    "chrome_options.add_argument(\"--headless\")\n",
    "browser = webdriver.Chrome(options=chrome_options)\n",
    "browser.get(target_url)\n",
    "html_source = browser.page_source\n",
    "soup = BeautifulSoup(html_source, 'html.parser')\n",
    "Path('urls').mkdir(parents=True, exist_ok=True)\n",
    "with open('urls/links.txt', 'w') as f:\n",
    "    for sub_target in sub_targets:\n",
    "        tag = soup.find('a', textvalue=re.compile('\\s*'.join(list(sub_target))))\n",
    "        f.write(sub_target + ' ' + tag['href'] + '\\n')\n",
    "browser.quit()"
   ]
  },
  {
   "cell_type": "code",
   "execution_count": 2,
   "metadata": {},
   "outputs": [],
   "source": [
    "# Scroll to the bottom of the page\n",
    "def scroll_to_bottom(browser):\n",
    "    last_height = browser.execute_script(\"return document.body.scrollHeight\")\n",
    "    while True:\n",
    "        # Scroll to the bottom of the page\n",
    "        browser.execute_script(\"window.scrollTo(0, document.body.scrollHeight);\")\n",
    "\n",
    "        # Wait for new content to load (you might need to adjust the sleep time)\n",
    "        time.sleep(1)\n",
    "\n",
    "        # Calculate new page height and compare with the previous height\n",
    "        new_height = browser.execute_script(\"return document.body.scrollHeight\")\n",
    "        if new_height == last_height:\n",
    "            break  # No more new content loaded, exit the loop\n",
    "        last_height = new_height"
   ]
  },
  {
   "cell_type": "code",
   "execution_count": 14,
   "metadata": {},
   "outputs": [
    {
     "name": "stderr",
     "output_type": "stream",
     "text": [
      "C:\\Users\\Jack\\AppData\\Local\\Temp\\ipykernel_14784\\257698692.py:13: DeprecationWarning: The 'text' argument to find()-type methods is deprecated. Use 'string' instead.\n",
      "  tags = soup.find_all('a', text=re.compile('蜡笔小新.*'))\n"
     ]
    }
   ],
   "source": [
    "with open('urls/links.txt', 'r') as f:\n",
    "    lines = f.readlines()\n",
    "    for line in lines:\n",
    "        name, url = line.split()\n",
    "        # browser = webdriver.Chrome(options=chrome_options)\n",
    "        browser = webdriver.Chrome() # For debugging\n",
    "        browser.get(url)\n",
    "        scroll_to_bottom(browser)\n",
    "        soup = BeautifulSoup(browser.page_source, 'html.parser')\n",
    "        tags = soup.find_all('li', attrs={\"data-title\": re.compile('蜡笔小新.*')})\n",
    "        if_a_tags = False\n",
    "        if len(tags) == 0:\n",
    "            tags = soup.find_all('a', text=re.compile('蜡笔小新.*'))\n",
    "            if_a_tags = True\n",
    "        with open(f'urls/{name}.txt', 'w') as f_sub:\n",
    "            for tag in tags:\n",
    "                if if_a_tags:\n",
    "                    f_sub.write(re.sub('\\s', '', tag.text) + ' ' + tag['href'] + '\\n')\n",
    "                else:\n",
    "                    f_sub.write(re.sub('\\s', '', tag['data-title']) + ' ' + tag['data-link'] + '\\n')\n",
    "        browser.quit()"
   ]
  },
  {
   "cell_type": "code",
   "execution_count": 5,
   "metadata": {},
   "outputs": [],
   "source": [
    "from tqdm import tqdm\n",
    "\n",
    "headers = {\n",
    "    \"User-Agent\": \"Mozilla/5.0 (Macintosh; Intel Mac OS X 10_15_7) AppleWebKit/605.1.15 (KHTML, like Gecko) Version/14.0.3 Safari/605.1.15\"\n",
    "}\n",
    "\n",
    "def download_video_from_url(url, destination_filename):\n",
    "    response = requests.get(url, stream=True, headers=headers)\n",
    "    response.raise_for_status()  # Raise an exception for HTTP errors\n",
    "    total_size_in_bytes= int(response.headers.get('content-length', 0))\n",
    "    chunk_size=4*1024*1024 # 4MB chunks\n",
    "\n",
    "    with open(destination_filename, 'wb') as file, tqdm(\n",
    "        desc=destination_filename,\n",
    "        total=total_size_in_bytes,\n",
    "        unit='B',\n",
    "        unit_scale=True,\n",
    "        unit_divisor=1024,\n",
    "    ) as bar:\n",
    "        for chunk in response.iter_content(chunk_size):\n",
    "            file.write(chunk)\n",
    "            bar.update(len(chunk))\n",
    "            \n",
    "    print(f\"Video downloaded and saved as {destination_filename}\")"
   ]
  },
  {
   "cell_type": "code",
   "execution_count": 6,
   "metadata": {},
   "outputs": [
    {
     "name": "stderr",
     "output_type": "stream",
     "text": [
      "videos/蜡笔小新第九季/蜡笔小新第九季114把涂鸦擦掉哦.mp4: 100%|██████████| 81.7M/81.7M [01:08<00:00, 1.26MB/s]\n"
     ]
    },
    {
     "name": "stdout",
     "output_type": "stream",
     "text": [
      "Video downloaded and saved as videos/蜡笔小新第九季/蜡笔小新第九季114把涂鸦擦掉哦.mp4\n"
     ]
    },
    {
     "name": "stderr",
     "output_type": "stream",
     "text": [
      "videos/蜡笔小新第九季/蜡笔小新第九季115全身湿答答的园长先生.mp4: 100%|██████████| 81.8M/81.8M [01:45<00:00, 815kB/s]\n"
     ]
    },
    {
     "name": "stdout",
     "output_type": "stream",
     "text": [
      "Video downloaded and saved as videos/蜡笔小新第九季/蜡笔小新第九季115全身湿答答的园长先生.mp4\n"
     ]
    },
    {
     "name": "stderr",
     "output_type": "stream",
     "text": [
      "videos/蜡笔小新第九季/蜡笔小新第九季116艰难的购物.mp4: 100%|██████████| 81.5M/81.5M [01:36<00:00, 889kB/s]\n"
     ]
    },
    {
     "name": "stdout",
     "output_type": "stream",
     "text": [
      "Video downloaded and saved as videos/蜡笔小新第九季/蜡笔小新第九季116艰难的购物.mp4\n"
     ]
    },
    {
     "name": "stderr",
     "output_type": "stream",
     "text": [
      "videos/蜡笔小新第九季/蜡笔小新第九季117躲进壁橱里的妮妮.mp4: 100%|██████████| 81.8M/81.8M [01:41<00:00, 841kB/s]\n"
     ]
    },
    {
     "name": "stdout",
     "output_type": "stream",
     "text": [
      "Video downloaded and saved as videos/蜡笔小新第九季/蜡笔小新第九季117躲进壁橱里的妮妮.mp4\n"
     ]
    },
    {
     "name": "stderr",
     "output_type": "stream",
     "text": [
      "videos/蜡笔小新第九季/蜡笔小新第九季118来势汹汹的爷爷.mp4: 100%|██████████| 82.1M/82.1M [01:03<00:00, 1.36MB/s]\n"
     ]
    },
    {
     "name": "stdout",
     "output_type": "stream",
     "text": [
      "Video downloaded and saved as videos/蜡笔小新第九季/蜡笔小新第九季118来势汹汹的爷爷.mp4\n"
     ]
    },
    {
     "name": "stderr",
     "output_type": "stream",
     "text": [
      "videos/蜡笔小新第九季/蜡笔小新第九季119在春日部车站前吃午餐.mp4: 100%|██████████| 81.9M/81.9M [01:22<00:00, 1.05MB/s]\n"
     ]
    },
    {
     "name": "stdout",
     "output_type": "stream",
     "text": [
      "Video downloaded and saved as videos/蜡笔小新第九季/蜡笔小新第九季119在春日部车站前吃午餐.mp4\n"
     ]
    },
    {
     "name": "stderr",
     "output_type": "stream",
     "text": [
      "videos/蜡笔小新第九季/蜡笔小新第九季120冠军奖杯不知道在哪里.mp4: 100%|██████████| 82.0M/82.0M [02:17<00:00, 625kB/s]\n"
     ]
    },
    {
     "name": "stdout",
     "output_type": "stream",
     "text": [
      "Video downloaded and saved as videos/蜡笔小新第九季/蜡笔小新第九季120冠军奖杯不知道在哪里.mp4\n"
     ]
    },
    {
     "name": "stderr",
     "output_type": "stream",
     "text": [
      "videos/蜡笔小新第九季/蜡笔小新第九季121用纸箱盖一座迷宫.mp4: 100%|██████████| 81.6M/81.6M [01:40<00:00, 854kB/s]\n"
     ]
    },
    {
     "name": "stdout",
     "output_type": "stream",
     "text": [
      "Video downloaded and saved as videos/蜡笔小新第九季/蜡笔小新第九季121用纸箱盖一座迷宫.mp4\n"
     ]
    },
    {
     "name": "stderr",
     "output_type": "stream",
     "text": [
      "videos/蜡笔小新第九季/蜡笔小新第九季122爸爸要在家里上班.mp4: 100%|██████████| 81.8M/81.8M [01:34<00:00, 904kB/s]\n"
     ]
    },
    {
     "name": "stdout",
     "output_type": "stream",
     "text": [
      "Video downloaded and saved as videos/蜡笔小新第九季/蜡笔小新第九季122爸爸要在家里上班.mp4\n"
     ]
    },
    {
     "name": "stderr",
     "output_type": "stream",
     "text": [
      "videos/蜡笔小新第九季/蜡笔小新第九季123想吃苹果糖葫芦.mp4: 100%|██████████| 81.9M/81.9M [00:51<00:00, 1.68MB/s]\n"
     ]
    },
    {
     "name": "stdout",
     "output_type": "stream",
     "text": [
      "Video downloaded and saved as videos/蜡笔小新第九季/蜡笔小新第九季123想吃苹果糖葫芦.mp4\n"
     ]
    },
    {
     "name": "stderr",
     "output_type": "stream",
     "text": [
      "videos/蜡笔小新第九季/蜡笔小新第九季124跟动感超人一起跑步.mp4: 100%|██████████| 81.4M/81.4M [01:42<00:00, 833kB/s]\n"
     ]
    },
    {
     "name": "stdout",
     "output_type": "stream",
     "text": [
      "Video downloaded and saved as videos/蜡笔小新第九季/蜡笔小新第九季124跟动感超人一起跑步.mp4\n"
     ]
    },
    {
     "name": "stderr",
     "output_type": "stream",
     "text": [
      "videos/蜡笔小新第九季/蜡笔小新第九季125幼稚园的网络评价.mp4: 100%|██████████| 81.9M/81.9M [01:38<00:00, 872kB/s]\n"
     ]
    },
    {
     "name": "stdout",
     "output_type": "stream",
     "text": [
      "Video downloaded and saved as videos/蜡笔小新第九季/蜡笔小新第九季125幼稚园的网络评价.mp4\n"
     ]
    },
    {
     "name": "stderr",
     "output_type": "stream",
     "text": [
      "videos/蜡笔小新第九季/蜡笔小新第九季126跟妈妈一起去投币式洗衣店.mp4: 100%|██████████| 81.6M/81.6M [01:44<00:00, 822kB/s]\n"
     ]
    },
    {
     "name": "stdout",
     "output_type": "stream",
     "text": [
      "Video downloaded and saved as videos/蜡笔小新第九季/蜡笔小新第九季126跟妈妈一起去投币式洗衣店.mp4\n"
     ]
    },
    {
     "name": "stderr",
     "output_type": "stream",
     "text": [
      "videos/蜡笔小新第九季/蜡笔小新第九季台配127去女子学校参观哦.mp4: 100%|██████████| 81.7M/81.7M [01:32<00:00, 931kB/s]\n"
     ]
    },
    {
     "name": "stdout",
     "output_type": "stream",
     "text": [
      "Video downloaded and saved as videos/蜡笔小新第九季/蜡笔小新第九季台配127去女子学校参观哦.mp4\n"
     ]
    },
    {
     "name": "stderr",
     "output_type": "stream",
     "text": [
      "videos/蜡笔小新第九季/蜡笔小新第九季台配128好想吃汉堡排哦.mp4: 100%|██████████| 81.7M/81.7M [01:18<00:00, 1.09MB/s]\n"
     ]
    },
    {
     "name": "stdout",
     "output_type": "stream",
     "text": [
      "Video downloaded and saved as videos/蜡笔小新第九季/蜡笔小新第九季台配128好想吃汉堡排哦.mp4\n"
     ]
    },
    {
     "name": "stderr",
     "output_type": "stream",
     "text": [
      "videos/蜡笔小新第九季/蜡笔小新第九季台配129一个人值班的洗澡哦.mp4: 100%|██████████| 81.7M/81.7M [01:28<00:00, 967kB/s] \n"
     ]
    },
    {
     "name": "stdout",
     "output_type": "stream",
     "text": [
      "Video downloaded and saved as videos/蜡笔小新第九季/蜡笔小新第九季台配129一个人值班的洗澡哦.mp4\n"
     ]
    },
    {
     "name": "stderr",
     "output_type": "stream",
     "text": [
      "videos/蜡笔小新第九季/蜡笔小新第九季台配130风间的坚持哦.mp4: 100%|██████████| 81.6M/81.6M [01:32<00:00, 929kB/s]\n"
     ]
    },
    {
     "name": "stdout",
     "output_type": "stream",
     "text": [
      "Video downloaded and saved as videos/蜡笔小新第九季/蜡笔小新第九季台配130风间的坚持哦.mp4\n"
     ]
    },
    {
     "name": "stderr",
     "output_type": "stream",
     "text": [
      "videos/蜡笔小新第九季/蜡笔小新第九季台配131在夏天的晚上进行天文观测哦.mp4: 100%|██████████| 81.4M/81.4M [01:44<00:00, 820kB/s]\n"
     ]
    },
    {
     "name": "stdout",
     "output_type": "stream",
     "text": [
      "Video downloaded and saved as videos/蜡笔小新第九季/蜡笔小新第九季台配131在夏天的晚上进行天文观测哦.mp4\n"
     ]
    },
    {
     "name": "stderr",
     "output_type": "stream",
     "text": [
      "videos/蜡笔小新第九季/蜡笔小新第九季台配132我是目击者哦.mp4:   0%|          | 0.00/81.7M [00:00<?, ?B/s]"
     ]
    }
   ],
   "source": [
    "import glob\n",
    "\n",
    "\n",
    "paths = glob.glob('urls/蜡笔小新*.txt') # Skip movie\n",
    "Path('videos').mkdir(parents=True, exist_ok=True)\n",
    "\n",
    "for path in paths:\n",
    "    with open(path, 'r') as file:\n",
    "        # get current file name\n",
    "        title = os.path.basename(path).split('.')[0]\n",
    "        Path('videos/' + title).mkdir(parents=True, exist_ok=True)\n",
    "        lines = file.readlines()\n",
    "        for line in lines:\n",
    "            name, url = line.split()\n",
    "            if os.path.exists('videos/' + title + '/' + name + '.mp4'):\n",
    "                # print(f\"File {'videos/' + title + '/' + name + '.mp4'} already exists. Skipping download.\")\n",
    "                continue\n",
    "            chrome_options = webdriver.chrome.options.Options()\n",
    "            chrome_options.add_argument(\"--headless\")\n",
    "            browser = webdriver.Chrome(options=chrome_options)\n",
    "            browser.get(url)\n",
    "\n",
    "            # Wait for JavaScript to render (can use explicit waits here if needed)\n",
    "            html_source = browser.page_source\n",
    "            soup = BeautifulSoup(html_source, 'html.parser')\n",
    "            browser.quit()\n",
    "\n",
    "            # Find the video tag with the desired src attribute pattern\n",
    "            video_tag = soup.find('video', src=re.compile(r'^http://mpvideo.qpic.cn/.*'))\n",
    "\n",
    "            if video_tag:\n",
    "                video_src = video_tag['src']\n",
    "                # download video\n",
    "                download_video_from_url(video_src, 'videos/' + title + '/' + name + '.mp4')\n",
    "            else:\n",
    "                print(\"No matching video tag found.\")\n",
    "        "
   ]
  },
  {
   "cell_type": "code",
   "execution_count": null,
   "metadata": {},
   "outputs": [],
   "source": []
  }
 ],
 "metadata": {
  "kernelspec": {
   "display_name": "base",
   "language": "python",
   "name": "python3"
  },
  "language_info": {
   "codemirror_mode": {
    "name": "ipython",
    "version": 3
   },
   "file_extension": ".py",
   "mimetype": "text/x-python",
   "name": "python",
   "nbconvert_exporter": "python",
   "pygments_lexer": "ipython3",
   "version": "3.10.9"
  },
  "orig_nbformat": 4
 },
 "nbformat": 4,
 "nbformat_minor": 2
}
